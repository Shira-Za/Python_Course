{
 "cells": [
  {
   "cell_type": "code",
   "execution_count": null,
   "metadata": {},
   "outputs": [
    {
     "data": {
      "text/plain": [
       "{'sub_0': {'first_name': 'Freddie', 'last_name': 'Mercury'},\n",
       " 'sub_1': {'first_name': 'Robert', 'last_name': 'Plant'}}"
      ]
     },
     "execution_count": 12,
     "metadata": {},
     "output_type": "execute_result"
    }
   ],
   "source": [
    "def parse_subject_names(subjects: list) -> dict: \n",
    "    \"\"\"The function gets subjects' names and seperates them to keys of \n",
    "     first names and values of last names. \"\"\" \n",
    "    sub_dict = {}\n",
    "    for i, subject in enumerate(subjects): \n",
    "        new_list = subject.split(' ')\n",
    "        first_name = new_list[0]\n",
    "        last_name = new_list[-1]\n",
    "        name_dict = {\"first_name\": first_name, \"last_name\": last_name}\n",
    "        sub_dict[f\"sub_{i}\"] = name_dict\n",
    "    return sub_dict\n"
   ]
  }
 ],
 "metadata": {
  "kernelspec": {
   "display_name": "Python 3",
   "language": "python",
   "name": "python3"
  },
  "language_info": {
   "codemirror_mode": {
    "name": "ipython",
    "version": 3
   },
   "file_extension": ".py",
   "mimetype": "text/x-python",
   "name": "python",
   "nbconvert_exporter": "python",
   "pygments_lexer": "ipython3",
   "version": "3.12.1"
  }
 },
 "nbformat": 4,
 "nbformat_minor": 2
}
